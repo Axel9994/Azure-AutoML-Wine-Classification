{
  "cells": [
    {
      "cell_type": "markdown",
      "source": [
        "## Auto ML Clasificacion Vinos"
      ],
      "metadata": {
        "nteract": {
          "transient": {
            "deleting": false
          }
        }
      }
    },
    {
      "cell_type": "code",
      "source": [
        "import azureml.core\r\n",
        "from azureml.core import Workspace, Dataset\r\n",
        "\r\n",
        "ws = Workspace.from_config()"
      ],
      "outputs": [],
      "execution_count": 1,
      "metadata": {
        "jupyter": {
          "source_hidden": false,
          "outputs_hidden": false
        },
        "nteract": {
          "transient": {
            "deleting": false
          }
        },
        "gather": {
          "logged": 1636213740257
        }
      }
    },
    {
      "cell_type": "markdown",
      "source": [
        "### Preparar Datos"
      ],
      "metadata": {
        "nteract": {
          "transient": {
            "deleting": false
          }
        }
      }
    },
    {
      "cell_type": "code",
      "source": [
        "from azureml.core import Dataset\r\n",
        "\r\n",
        "wine_ds = Dataset.get_by_name(ws, name='wine_data')"
      ],
      "outputs": [],
      "execution_count": 2,
      "metadata": {
        "jupyter": {
          "source_hidden": false,
          "outputs_hidden": false
        },
        "nteract": {
          "transient": {
            "deleting": false
          }
        },
        "gather": {
          "logged": 1636213743921
        }
      }
    },
    {
      "cell_type": "markdown",
      "source": [
        "### Crear Compute Cluster"
      ],
      "metadata": {
        "nteract": {
          "transient": {
            "deleting": false
          }
        }
      }
    },
    {
      "cell_type": "code",
      "source": [
        "from azureml.core.compute import ComputeTarget, AmlCompute\r\n",
        "from azureml.core.compute_target import ComputeTargetException\r\n",
        "\r\n",
        "cluster_name = \"my-ml-cluster\"\r\n",
        "\r\n",
        "try:\r\n",
        "    # Check for existing compute target\r\n",
        "    training_cluster = ComputeTarget(workspace=ws, name=cluster_name)\r\n",
        "    print('Found existing cluster, use it.')\r\n",
        "except ComputeTargetException:\r\n",
        "    # If it doesn't already exist, create it\r\n",
        "    try:\r\n",
        "        compute_config = AmlCompute.provisioning_configuration(vm_size='STANDARD_DS11_V2', max_nodes=4)\r\n",
        "        training_cluster = ComputeTarget.create(ws, cluster_name, compute_config)\r\n",
        "        training_cluster.wait_for_completion(show_output=True)\r\n",
        "    except Exception as ex:\r\n",
        "        print(ex)"
      ],
      "outputs": [
        {
          "output_type": "stream",
          "name": "stdout",
          "text": "InProgress....\nSucceededProvisioning operation finished, operation \"Succeeded\"\nSucceeded\nAmlCompute wait for completion finished\n\nMinimum number of nodes requested have been provisioned\n"
        }
      ],
      "execution_count": 3,
      "metadata": {
        "jupyter": {
          "source_hidden": false,
          "outputs_hidden": false
        },
        "nteract": {
          "transient": {
            "deleting": false
          }
        },
        "gather": {
          "logged": 1636213766892
        }
      }
    },
    {
      "cell_type": "markdown",
      "source": [
        "### Crear configuracion AutoML"
      ],
      "metadata": {
        "nteract": {
          "transient": {
            "deleting": false
          }
        }
      }
    },
    {
      "cell_type": "code",
      "source": [
        "from azureml.train.automl import AutoMLConfig\r\n",
        "\r\n",
        "automl_config = AutoMLConfig(name='Auto ML exp clasificacion prueba',\r\n",
        "                             task='classification',\r\n",
        "                             compute_target=training_cluster,\r\n",
        "                             training_data = wine_ds,\r\n",
        "                             label_column_name='name',\r\n",
        "                             experiment_timeout_hours= 1,\r\n",
        "                             enable_early_stopping= True,\r\n",
        "                             n_cross_validations= 3,\r\n",
        "                             num_classes= 3,\r\n",
        "                             primary_metric = 'AUC_weighted',\r\n",
        "                             max_concurrent_iterations=4,\r\n",
        "                             featurization='auto'\r\n",
        "                             )"
      ],
      "outputs": [],
      "execution_count": 4,
      "metadata": {
        "jupyter": {
          "source_hidden": false,
          "outputs_hidden": false
        },
        "nteract": {
          "transient": {
            "deleting": false
          }
        },
        "gather": {
          "logged": 1636213769975
        }
      }
    },
    {
      "cell_type": "markdown",
      "source": [
        "### Correr Experimiento"
      ],
      "metadata": {
        "nteract": {
          "transient": {
            "deleting": false
          }
        }
      }
    },
    {
      "cell_type": "code",
      "source": [
        "from azureml.core.experiment import Experiment\r\n",
        "\r\n",
        "automl_experiment = Experiment(ws, 'Azure-AutoML-Clasificar-Vinos')\r\n",
        "automl_run = automl_experiment.submit(automl_config)\r\n",
        "automl_run.wait_for_completion(show_output=True)"
      ],
      "outputs": [
        {
          "output_type": "stream",
          "name": "stdout",
          "text": "Submitting remote run.\n"
        },
        {
          "output_type": "display_data",
          "data": {
            "text/plain": "<IPython.core.display.HTML object>",
            "text/html": "<table style=\"width:100%\"><tr><th>Experiment</th><th>Id</th><th>Type</th><th>Status</th><th>Details Page</th><th>Docs Page</th></tr><tr><td>Azure-AutoML-Clasificar-Vinos</td><td>AutoML_4a673ac3-6d78-4a50-a498-3f01e90a25e4</td><td>automl</td><td>NotStarted</td><td><a href=\"https://ml.azure.com/runs/AutoML_4a673ac3-6d78-4a50-a498-3f01e90a25e4?wsid=/subscriptions/030feb6f-715f-420c-90a9-4d556309931c/resourcegroups/my_ml_workspace/workspaces/my_ml_workspace&amp;tid=81da4f59-2a5e-4a42-a27c-2cfd2a975e53\" target=\"_blank\" rel=\"noopener\">Link to Azure Machine Learning studio</a></td><td><a href=\"https://docs.microsoft.com/en-us/python/api/overview/azure/ml/intro?view=azure-ml-py\" target=\"_blank\" rel=\"noopener\">Link to Documentation</a></td></tr></table>"
          },
          "metadata": {}
        },
        {
          "output_type": "display_data",
          "data": {
            "text/plain": "<IPython.core.display.HTML object>",
            "text/html": "<table style=\"width:100%\"><tr><th>Experiment</th><th>Id</th><th>Type</th><th>Status</th><th>Details Page</th><th>Docs Page</th></tr><tr><td>Azure-AutoML-Clasificar-Vinos</td><td>AutoML_4a673ac3-6d78-4a50-a498-3f01e90a25e4</td><td>automl</td><td>NotStarted</td><td><a href=\"https://ml.azure.com/runs/AutoML_4a673ac3-6d78-4a50-a498-3f01e90a25e4?wsid=/subscriptions/030feb6f-715f-420c-90a9-4d556309931c/resourcegroups/my_ml_workspace/workspaces/my_ml_workspace&amp;tid=81da4f59-2a5e-4a42-a27c-2cfd2a975e53\" target=\"_blank\" rel=\"noopener\">Link to Azure Machine Learning studio</a></td><td><a href=\"https://docs.microsoft.com/en-us/python/api/overview/azure/ml/intro?view=azure-ml-py\" target=\"_blank\" rel=\"noopener\">Link to Documentation</a></td></tr></table>"
          },
          "metadata": {}
        },
        {
          "output_type": "stream",
          "name": "stdout",
          "text": "\nCurrent status: FeaturesGeneration. Generating features for the dataset.\nCurrent status: DatasetCrossValidationSplit. Generating individually featurized CV splits.\nCurrent status: ModelSelection. Beginning model selection.\n\n****************************************************************************************************\nDATA GUARDRAILS: \n\nTYPE:         Class balancing detection\nSTATUS:       PASSED\nDESCRIPTION:  Your inputs were analyzed, and all classes are balanced in your training data.\n              Learn more about imbalanced data: https://aka.ms/AutomatedMLImbalancedData\n\n****************************************************************************************************\n\nTYPE:         Missing feature values imputation\nSTATUS:       PASSED\nDESCRIPTION:  No feature missing values were detected in the training data.\n              Learn more about missing value imputation: https://aka.ms/AutomatedMLFeaturization\n\n****************************************************************************************************\n\nTYPE:         High cardinality feature detection\nSTATUS:       PASSED\nDESCRIPTION:  Your inputs were analyzed, and no high cardinality features were detected.\n              Learn more about high cardinality feature handling: https://aka.ms/AutomatedMLFeaturization\n\n****************************************************************************************************\n\n****************************************************************************************************\nITERATION: The iteration being evaluated.\nPIPELINE: A summary description of the pipeline being evaluated.\nDURATION: Time taken for the current iteration.\nMETRIC: The result of computing score on the fitted pipeline.\nBEST: The best observed score thus far.\n****************************************************************************************************\n\n ITERATION   PIPELINE                                       DURATION      METRIC      BEST\n         1   MaxAbsScaler XGBoostClassifier                 0:00:25       0.9992    0.9992\n         3   MaxAbsScaler RandomForest                      0:00:49       0.9917    0.9992\n         0   MaxAbsScaler LightGBM                          0:01:14       0.9977    0.9992\n         4   StandardScalerWrapper LightGBM                 0:01:23       0.9975    0.9992\n         6   SparseNormalizer XGBoostClassifier             0:01:09       0.9836    0.9992\n         7   SparseNormalizer RandomForest                  0:01:02       0.9833    0.9992\n         8   RobustScaler KNN                               0:00:55       0.9961    0.9992\n         9   MinMaxScaler RandomForest                      0:00:50       0.9924    0.9992\n        10   StandardScalerWrapper LogisticRegression       0:01:07       0.9944    0.9992\n        11   StandardScalerWrapper SVM                      0:01:11       0.9986    0.9992\n        12   StandardScalerWrapper XGBoostClassifier        0:00:50       1.0000    1.0000\n         2   MaxAbsScaler ExtremeRandomTrees                0:05:50       0.9940    1.0000\n        13   SparseNormalizer KNN                           0:01:27       0.9809    1.0000\n        14   RobustScaler ExtremeRandomTrees                0:01:31       0.9921    1.0000\n        15   SparseNormalizer XGBoostClassifier             0:01:31       0.9795    1.0000\n         5   StandardScalerWrapper KNN                      0:06:59       0.9630    1.0000\n        16   MinMaxScaler ExtremeRandomTrees                0:02:04       0.9956    1.0000\n        17   MinMaxScaler ExtremeRandomTrees                0:02:02       0.9979    1.0000\n        18   SparseNormalizer LightGBM                      0:02:03       0.9821    1.0000\n        19   MaxAbsScaler ExtremeRandomTrees                0:02:03       0.9988    1.0000\n        20   StandardScalerWrapper XGBoostClassifier        0:01:53       0.9985    1.0000\n        22   MaxAbsScaler LightGBM                          0:01:30       0.9986    1.0000\n        21   StandardScalerWrapper RandomForest             0:02:46       0.9998    1.0000\n        23   MaxAbsScaler LogisticRegression                0:01:58       0.9911    1.0000\n        24   StandardScalerWrapper ExtremeRandomTrees       0:01:57       0.9985    1.0000\n        25   TruncatedSVDWrapper XGBoostClassifier          0:01:29       0.8129    1.0000\n        26   MinMaxScaler LightGBM                          0:01:12       0.9964    1.0000\n        27   MinMaxScaler LightGBM                          0:02:02       0.9945    1.0000\n        28   StandardScalerWrapper LightGBM                 0:02:07       0.9985    1.0000\n        29   StandardScalerWrapper LightGBM                 0:02:06       0.9978    1.0000\n        30   StandardScalerWrapper XGBoostClassifier        0:02:00       0.9977    1.0000\n        31   MaxAbsScaler LogisticRegression                0:01:56       0.9913    1.0000\n        32   StandardScalerWrapper LightGBM                 0:01:52       0.9986    1.0000\n        33   TruncatedSVDWrapper XGBoostClassifier          0:01:50       0.9770    1.0000\n        34                                                  0:01:28          nan    1.0000\n        35                                                  0:00:34          nan    1.0000\n        36    VotingEnsemble                                0:00:40       1.0000    1.0000\n        37    StackEnsemble                                 0:00:44       0.9997    1.0000\n"
        },
        {
          "output_type": "execute_result",
          "execution_count": 5,
          "data": {
            "text/plain": "{'runId': 'AutoML_4a673ac3-6d78-4a50-a498-3f01e90a25e4',\n 'target': 'my-ml-cluster',\n 'status': 'Completed',\n 'startTimeUtc': '2021-11-06T15:49:53.667732Z',\n 'endTimeUtc': '2021-11-06T16:13:36.587951Z',\n 'services': {},\n 'warnings': [{'source': 'JasmineService',\n   'message': 'No scores improved over last 20 iterations, so experiment stopped early. This early stopping behavior can be disabled by setting enable_early_stopping = False in AutoMLConfig for notebook/python SDK runs.'}],\n 'properties': {'num_iterations': '1000',\n  'training_type': 'TrainFull',\n  'acquisition_function': 'EI',\n  'primary_metric': 'AUC_weighted',\n  'train_split': '0',\n  'acquisition_parameter': '0',\n  'num_cross_validation': '3',\n  'target': 'my-ml-cluster',\n  'AMLSettingsJsonString': '{\"path\":null,\"name\":\"Auto ML exp clasificacion prueba\",\"subscription_id\":\"030feb6f-715f-420c-90a9-4d556309931c\",\"resource_group\":\"my_ml_workspace\",\"workspace_name\":\"my_ml_workspace\",\"region\":\"eastus\",\"compute_target\":\"my-ml-cluster\",\"spark_service\":null,\"azure_service\":\"remote\",\"many_models\":false,\"pipeline_fetch_max_batch_size\":1,\"enable_batch_run\":false,\"enable_run_restructure\":false,\"start_auxiliary_runs_before_parent_complete\":false,\"enable_code_generation\":false,\"iterations\":1000,\"primary_metric\":\"AUC_weighted\",\"task_type\":\"classification\",\"data_script\":null,\"test_size\":0.0,\"test_include_predictions_only\":false,\"validation_size\":0.0,\"n_cross_validations\":3,\"y_min\":null,\"y_max\":null,\"num_classes\":null,\"featurization\":\"auto\",\"_ignore_package_version_incompatibilities\":false,\"is_timeseries\":false,\"max_cores_per_iteration\":1,\"max_concurrent_iterations\":4,\"iteration_timeout_minutes\":null,\"mem_in_mb\":null,\"enforce_time_on_windows\":false,\"experiment_timeout_minutes\":60,\"experiment_exit_score\":null,\"whitelist_models\":null,\"blacklist_algos\":[\"TensorFlowLinearClassifier\",\"TensorFlowDNN\"],\"supported_models\":[\"ExtremeRandomTrees\",\"XGBoostClassifier\",\"KNN\",\"BernoulliNaiveBayes\",\"TensorFlowDNN\",\"TensorFlowLinearClassifier\",\"LogisticRegression\",\"SVM\",\"LinearSVM\",\"AveragedPerceptronClassifier\",\"MultinomialNaiveBayes\",\"RandomForest\",\"GradientBoosting\",\"LightGBM\",\"DecisionTree\",\"SGD\"],\"private_models\":[],\"auto_blacklist\":true,\"blacklist_samples_reached\":false,\"exclude_nan_labels\":true,\"verbosity\":20,\"_debug_log\":\"azureml_automl.log\",\"show_warnings\":false,\"model_explainability\":true,\"service_url\":null,\"sdk_url\":null,\"sdk_packages\":null,\"enable_onnx_compatible_models\":false,\"enable_split_onnx_featurizer_estimator_models\":false,\"vm_type\":\"STANDARD_DS11_V2\",\"telemetry_verbosity\":20,\"send_telemetry\":true,\"enable_dnn\":false,\"scenario\":\"SDK-1.13.0\",\"environment_label\":null,\"save_mlflow\":false,\"force_text_dnn\":false,\"enable_feature_sweeping\":true,\"enable_early_stopping\":true,\"early_stopping_n_iters\":10,\"metrics\":null,\"enable_metric_confidence\":false,\"enable_ensembling\":true,\"enable_stack_ensembling\":true,\"ensemble_iterations\":15,\"enable_tf\":false,\"enable_subsampling\":null,\"subsample_seed\":null,\"enable_nimbusml\":false,\"enable_streaming\":false,\"force_streaming\":false,\"track_child_runs\":true,\"allowed_private_models\":[],\"label_column_name\":\"name\",\"weight_column_name\":null,\"cv_split_column_names\":null,\"positive_label\":null,\"enable_local_managed\":false,\"_local_managed_run_id\":null,\"cost_mode\":1,\"lag_length\":0,\"metric_operation\":\"maximize\",\"preprocess\":true}',\n  'DataPrepJsonString': '{\\\\\"training_data\\\\\": {\\\\\"datasetId\\\\\": \\\\\"2e8f1f87-d107-4027-8fad-f15027521bd9\\\\\"}, \\\\\"datasets\\\\\": 0}',\n  'EnableSubsampling': None,\n  'runTemplate': 'AutoML',\n  'azureml.runsource': 'automl',\n  'display_task_type': 'classification',\n  'dependencies_versions': '{\"azureml-widgets\": \"1.34.0\", \"azureml-train\": \"1.34.0\", \"azureml-train-restclients-hyperdrive\": \"1.34.0\", \"azureml-train-core\": \"1.34.0\", \"azureml-train-automl\": \"1.34.0\", \"azureml-train-automl-runtime\": \"1.34.0\", \"azureml-train-automl-client\": \"1.34.0\", \"azureml-tensorboard\": \"1.34.0\", \"azureml-telemetry\": \"1.34.0\", \"azureml-sdk\": \"1.34.0\", \"azureml-samples\": \"0+unknown\", \"azureml-responsibleai\": \"1.34.0\", \"azureml-pipeline\": \"1.34.0\", \"azureml-pipeline-steps\": \"1.34.0\", \"azureml-pipeline-core\": \"1.34.0\", \"azureml-opendatasets\": \"1.34.0\", \"azureml-mlflow\": \"1.34.0\", \"azureml-interpret\": \"1.34.0\", \"azureml-inference-server-http\": \"0.3.1\", \"azureml-explain-model\": \"1.34.0\", \"azureml-defaults\": \"1.34.0\", \"azureml-dataset-runtime\": \"1.34.0\", \"azureml-dataprep\": \"2.22.2\", \"azureml-dataprep-rslex\": \"1.20.1\", \"azureml-dataprep-native\": \"38.0.0\", \"azureml-datadrift\": \"1.34.0\", \"azureml-core\": \"1.34.0\", \"azureml-contrib-services\": \"1.34.0\", \"azureml-contrib-server\": \"1.34.0\", \"azureml-contrib-reinforcementlearning\": \"1.34.0\", \"azureml-contrib-pipeline-steps\": \"1.34.0\", \"azureml-contrib-notebook\": \"1.34.0\", \"azureml-contrib-fairness\": \"1.34.0\", \"azureml-contrib-dataset\": \"1.34.0\", \"azureml-contrib-automl-pipeline-steps\": \"1.34.0\", \"azureml-cli-common\": \"1.34.0\", \"azureml-automl-runtime\": \"1.34.0\", \"azureml-automl-dnn-nlp\": \"1.34.0\", \"azureml-automl-core\": \"1.34.0\", \"azureml-accel-models\": \"1.34.0\"}',\n  '_aml_system_scenario_identification': 'Remote.Parent',\n  'ClientType': 'SDK',\n  'environment_cpu_name': 'AzureML-AutoML',\n  'environment_cpu_label': 'prod',\n  'environment_gpu_name': 'AzureML-AutoML-GPU',\n  'environment_gpu_label': 'prod',\n  'root_attribution': 'automl',\n  'attribution': 'AutoML',\n  'Orchestrator': 'AutoML',\n  'CancelUri': 'https://eastus.api.azureml.ms/jasmine/v1.0/subscriptions/030feb6f-715f-420c-90a9-4d556309931c/resourceGroups/my_ml_workspace/providers/Microsoft.MachineLearningServices/workspaces/my_ml_workspace/experimentids/9ba27c39-4960-478c-b692-b34491d84201/cancel/AutoML_4a673ac3-6d78-4a50-a498-3f01e90a25e4',\n  'ClientSdkVersion': '1.35.1',\n  'snapshotId': '00000000-0000-0000-0000-000000000000',\n  'SetupRunId': 'AutoML_4a673ac3-6d78-4a50-a498-3f01e90a25e4_setup',\n  'SetupRunContainerId': 'dcid.AutoML_4a673ac3-6d78-4a50-a498-3f01e90a25e4_setup',\n  'FeaturizationRunJsonPath': 'featurizer_container.json',\n  'FeaturizationRunId': 'AutoML_4a673ac3-6d78-4a50-a498-3f01e90a25e4_featurize',\n  'ProblemInfoJsonString': '{\"dataset_num_categorical\": 0, \"is_sparse\": false, \"subsampling\": false, \"has_extra_col\": true, \"dataset_classes\": 3, \"dataset_features\": 11, \"dataset_samples\": 177, \"single_frequency_class_detected\": false}',\n  'ModelExplainRunId': 'AutoML_4a673ac3-6d78-4a50-a498-3f01e90a25e4_ModelExplain'},\n 'inputDatasets': [{'dataset': {'id': '2e8f1f87-d107-4027-8fad-f15027521bd9'}, 'consumptionDetails': {'type': 'RunInput', 'inputName': 'training_data', 'mechanism': 'Direct'}}],\n 'outputDatasets': [],\n 'logFiles': {},\n 'submittedBy': 'axel aleman'}"
          },
          "metadata": {}
        }
      ],
      "execution_count": 5,
      "metadata": {
        "jupyter": {
          "source_hidden": false,
          "outputs_hidden": false
        },
        "nteract": {
          "transient": {
            "deleting": false
          }
        },
        "gather": {
          "logged": 1636215234186
        }
      }
    },
    {
      "cell_type": "markdown",
      "source": [
        "### Obtener Mejor Modelo"
      ],
      "metadata": {
        "nteract": {
          "transient": {
            "deleting": false
          }
        }
      }
    },
    {
      "cell_type": "code",
      "source": [
        "best_run, fitted_model = automl_run.get_output()\r\n",
        "print(best_run)\r\n",
        "\r\n",
        "print('\\nBest Run Metrics:')\r\n",
        "best_run_metrics = best_run.get_metrics()\r\n",
        "for metric_name in best_run_metrics:\r\n",
        "    metric = best_run_metrics[metric_name]\r\n",
        "    print(metric_name, metric)"
      ],
      "outputs": [
        {
          "output_type": "stream",
          "name": "stderr",
          "text": "WARNING:root:The version of the SDK does not match the version the model was trained on.\nWARNING:root:The consistency in the result may not be guaranteed.\nWARNING:root:Package:azureml-automl-core, training version:1.35.1, current version:1.34.0\nPackage:azureml-automl-runtime, training version:1.35.1, current version:1.34.0\nPackage:azureml-core, training version:1.35.0.post1, current version:1.34.0\nPackage:azureml-dataprep, training version:2.23.2, current version:2.22.2\nPackage:azureml-dataprep-rslex, training version:1.21.2, current version:1.20.1\nPackage:azureml-dataset-runtime, training version:1.35.0, current version:1.34.0\nPackage:azureml-defaults, training version:1.35.0, current version:1.34.0\nPackage:azureml-interpret, training version:1.35.0, current version:1.34.0\nPackage:azureml-mlflow, training version:1.35.0, current version:1.34.0\nPackage:azureml-pipeline-core, training version:1.35.0, current version:1.34.0\nPackage:azureml-responsibleai, training version:1.35.0, current version:1.34.0\nPackage:azureml-telemetry, training version:1.35.0, current version:1.34.0\nPackage:azureml-train-automl-client, training version:1.35.0, current version:1.34.0\nPackage:azureml-train-automl-runtime, training version:1.35.1, current version:1.34.0\nPackage:azureml-train-core, training version:1.35.0, current version:1.34.0\nPackage:azureml-train-restclients-hyperdrive, training version:1.35.0, current version:1.34.0\nWARNING:root:Please ensure the version of your local conda dependencies match the version on which your model was trained in order to properly retrieve your model.\n"
        },
        {
          "output_type": "stream",
          "name": "stdout",
          "text": "Run(Experiment: Azure-AutoML-Clasificar-Vinos,\nId: AutoML_4a673ac3-6d78-4a50-a498-3f01e90a25e4_12,\nType: azureml.scriptrun,\nStatus: Completed)\n\nBest Run Metrics:\nmatthews_correlation 0.9681785666361685\nprecision_score_macro 0.9814814814814815\nnorm_macro_recall 0.9666666666666665\naverage_precision_score_micro 0.9960162463718341\nbalanced_accuracy 0.9777777777777777\nf1_score_micro 0.9774011299435029\nf1_score_macro 0.9775533108866442\nprecision_score_weighted 0.9811676082862523\nAUC_micro 0.9979412046346835\nrecall_score_micro 0.9774011299435029\nweighted_accuracy 0.9770312948607524\nprecision_score_micro 0.9774011299435029\nAUC_macro 1.0\nrecall_score_weighted 0.9774011299435029\nrecall_score_macro 0.9777777777777777\naverage_precision_score_macro 1.0\naccuracy 0.9774011299435029\nf1_score_weighted 0.9771728585287907\nAUC_weighted 1.0\naverage_precision_score_weighted 1.0\nlog_loss 0.45499646475178596\naccuracy_table aml://artifactId/ExperimentRun/dcid.AutoML_4a673ac3-6d78-4a50-a498-3f01e90a25e4_12/accuracy_table\nconfusion_matrix aml://artifactId/ExperimentRun/dcid.AutoML_4a673ac3-6d78-4a50-a498-3f01e90a25e4_12/confusion_matrix\n"
        }
      ],
      "execution_count": 6,
      "metadata": {
        "jupyter": {
          "source_hidden": false,
          "outputs_hidden": false
        },
        "nteract": {
          "transient": {
            "deleting": false
          }
        },
        "gather": {
          "logged": 1636215293717
        }
      }
    },
    {
      "cell_type": "markdown",
      "source": [
        "### Registrar mejor modelo"
      ],
      "metadata": {
        "nteract": {
          "transient": {
            "deleting": false
          }
        }
      }
    },
    {
      "cell_type": "code",
      "source": [
        "best_run.register_model(model_path='outputs/model.pkl', model_name='automl_wine_classification_model',\r\n",
        "                        tags={'Training context':'Auto ML'},\r\n",
        "                        properties={'AUC': best_run_metrics['AUC_weighted'], 'Accuracy': best_run_metrics['accuracy']})\r\n"
      ],
      "outputs": [
        {
          "output_type": "execute_result",
          "execution_count": 7,
          "data": {
            "text/plain": "Model(workspace=Workspace.create(name='my_ml_workspace', subscription_id='030feb6f-715f-420c-90a9-4d556309931c', resource_group='my_ml_workspace'), name=automl_wine_classification_model, id=automl_wine_classification_model:1, version=1, tags={'Training context': 'Auto ML'}, properties={'AUC': '1.0', 'Accuracy': '0.9774011299435029'})"
          },
          "metadata": {}
        }
      ],
      "execution_count": 7,
      "metadata": {
        "jupyter": {
          "source_hidden": false,
          "outputs_hidden": false
        },
        "nteract": {
          "transient": {
            "deleting": false
          }
        },
        "gather": {
          "logged": 1636215298950
        }
      }
    },
    {
      "cell_type": "markdown",
      "source": [
        "### Eliminar Cluster"
      ],
      "metadata": {
        "nteract": {
          "transient": {
            "deleting": false
          }
        }
      }
    },
    {
      "cell_type": "code",
      "source": [
        "training_cluster.delete()"
      ],
      "outputs": [],
      "execution_count": 8,
      "metadata": {
        "jupyter": {
          "source_hidden": false,
          "outputs_hidden": false
        },
        "nteract": {
          "transient": {
            "deleting": false
          }
        },
        "gather": {
          "logged": 1636215302870
        }
      }
    }
  ],
  "metadata": {
    "kernelspec": {
      "name": "python3-azureml",
      "language": "python",
      "display_name": "Python 3.6 - AzureML"
    },
    "language_info": {
      "name": "python",
      "version": "3.6.9",
      "mimetype": "text/x-python",
      "codemirror_mode": {
        "name": "ipython",
        "version": 3
      },
      "pygments_lexer": "ipython3",
      "nbconvert_exporter": "python",
      "file_extension": ".py"
    },
    "nteract": {
      "version": "nteract-front-end@1.0.0"
    },
    "kernel_info": {
      "name": "python3-azureml"
    }
  },
  "nbformat": 4,
  "nbformat_minor": 2
}